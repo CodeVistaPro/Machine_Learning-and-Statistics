{
 "cells": [
  {
   "cell_type": "markdown",
   "id": "79507fbb",
   "metadata": {},
   "source": [
    "## Loading datasets and merging them both "
   ]
  },
  {
   "cell_type": "code",
   "execution_count": 1,
   "id": "181d725d",
   "metadata": {},
   "outputs": [],
   "source": [
    "import pandas as pd \n",
    "import matplotlib.pyplot as plt\n",
    "%matplotlib inline"
   ]
  },
  {
   "cell_type": "code",
   "execution_count": 2,
   "id": "55ff43dd",
   "metadata": {},
   "outputs": [],
   "source": [
    "ab = pd.read_csv('ab_test.csv')\n",
    "countries = pd.read_csv('countries_ab.csv')"
   ]
  },
  {
   "cell_type": "code",
   "execution_count": 3,
   "id": "13e04ed4",
   "metadata": {},
   "outputs": [
    {
     "data": {
      "text/html": [
       "<div>\n",
       "<style scoped>\n",
       "    .dataframe tbody tr th:only-of-type {\n",
       "        vertical-align: middle;\n",
       "    }\n",
       "\n",
       "    .dataframe tbody tr th {\n",
       "        vertical-align: top;\n",
       "    }\n",
       "\n",
       "    .dataframe thead th {\n",
       "        text-align: right;\n",
       "    }\n",
       "</style>\n",
       "<table border=\"1\" class=\"dataframe\">\n",
       "  <thead>\n",
       "    <tr style=\"text-align: right;\">\n",
       "      <th></th>\n",
       "      <th>id</th>\n",
       "      <th>time</th>\n",
       "      <th>con_treat</th>\n",
       "      <th>page</th>\n",
       "      <th>converted</th>\n",
       "    </tr>\n",
       "  </thead>\n",
       "  <tbody>\n",
       "    <tr>\n",
       "      <th>0</th>\n",
       "      <td>851104</td>\n",
       "      <td>11:48.6</td>\n",
       "      <td>control</td>\n",
       "      <td>old_page</td>\n",
       "      <td>0</td>\n",
       "    </tr>\n",
       "    <tr>\n",
       "      <th>1</th>\n",
       "      <td>804228</td>\n",
       "      <td>01:45.2</td>\n",
       "      <td>control</td>\n",
       "      <td>old_page</td>\n",
       "      <td>0</td>\n",
       "    </tr>\n",
       "    <tr>\n",
       "      <th>2</th>\n",
       "      <td>661590</td>\n",
       "      <td>55:06.2</td>\n",
       "      <td>treatment</td>\n",
       "      <td>new_page</td>\n",
       "      <td>0</td>\n",
       "    </tr>\n",
       "    <tr>\n",
       "      <th>3</th>\n",
       "      <td>853541</td>\n",
       "      <td>28:03.1</td>\n",
       "      <td>treatment</td>\n",
       "      <td>new_page</td>\n",
       "      <td>0</td>\n",
       "    </tr>\n",
       "    <tr>\n",
       "      <th>4</th>\n",
       "      <td>864975</td>\n",
       "      <td>52:26.2</td>\n",
       "      <td>control</td>\n",
       "      <td>old_page</td>\n",
       "      <td>1</td>\n",
       "    </tr>\n",
       "  </tbody>\n",
       "</table>\n",
       "</div>"
      ],
      "text/plain": [
       "       id     time  con_treat      page  converted\n",
       "0  851104  11:48.6    control  old_page          0\n",
       "1  804228  01:45.2    control  old_page          0\n",
       "2  661590  55:06.2  treatment  new_page          0\n",
       "3  853541  28:03.1  treatment  new_page          0\n",
       "4  864975  52:26.2    control  old_page          1"
      ]
     },
     "execution_count": 3,
     "metadata": {},
     "output_type": "execute_result"
    }
   ],
   "source": [
    "ab.head()"
   ]
  },
  {
   "cell_type": "code",
   "execution_count": 4,
   "id": "11f2b5f4",
   "metadata": {},
   "outputs": [
    {
     "data": {
      "text/html": [
       "<div>\n",
       "<style scoped>\n",
       "    .dataframe tbody tr th:only-of-type {\n",
       "        vertical-align: middle;\n",
       "    }\n",
       "\n",
       "    .dataframe tbody tr th {\n",
       "        vertical-align: top;\n",
       "    }\n",
       "\n",
       "    .dataframe thead th {\n",
       "        text-align: right;\n",
       "    }\n",
       "</style>\n",
       "<table border=\"1\" class=\"dataframe\">\n",
       "  <thead>\n",
       "    <tr style=\"text-align: right;\">\n",
       "      <th></th>\n",
       "      <th>id</th>\n",
       "      <th>country</th>\n",
       "    </tr>\n",
       "  </thead>\n",
       "  <tbody>\n",
       "    <tr>\n",
       "      <th>0</th>\n",
       "      <td>834778</td>\n",
       "      <td>UK</td>\n",
       "    </tr>\n",
       "    <tr>\n",
       "      <th>1</th>\n",
       "      <td>928468</td>\n",
       "      <td>US</td>\n",
       "    </tr>\n",
       "    <tr>\n",
       "      <th>2</th>\n",
       "      <td>822059</td>\n",
       "      <td>UK</td>\n",
       "    </tr>\n",
       "    <tr>\n",
       "      <th>3</th>\n",
       "      <td>711597</td>\n",
       "      <td>UK</td>\n",
       "    </tr>\n",
       "    <tr>\n",
       "      <th>4</th>\n",
       "      <td>710616</td>\n",
       "      <td>UK</td>\n",
       "    </tr>\n",
       "  </tbody>\n",
       "</table>\n",
       "</div>"
      ],
      "text/plain": [
       "       id country\n",
       "0  834778      UK\n",
       "1  928468      US\n",
       "2  822059      UK\n",
       "3  711597      UK\n",
       "4  710616      UK"
      ]
     },
     "execution_count": 4,
     "metadata": {},
     "output_type": "execute_result"
    }
   ],
   "source": [
    "countries.head()"
   ]
  },
  {
   "cell_type": "code",
   "execution_count": 5,
   "id": "2f7013ee",
   "metadata": {},
   "outputs": [],
   "source": [
    "# here is the preview of both datasets and we will proceed to merge it on the basis od ID"
   ]
  },
  {
   "cell_type": "code",
   "execution_count": 6,
   "id": "fde9ec69",
   "metadata": {},
   "outputs": [],
   "source": [
    "df = ab.merge(countries , on='id' , how='left')"
   ]
  },
  {
   "cell_type": "code",
   "execution_count": 7,
   "id": "43dd7368",
   "metadata": {},
   "outputs": [
    {
     "data": {
      "text/html": [
       "<div>\n",
       "<style scoped>\n",
       "    .dataframe tbody tr th:only-of-type {\n",
       "        vertical-align: middle;\n",
       "    }\n",
       "\n",
       "    .dataframe tbody tr th {\n",
       "        vertical-align: top;\n",
       "    }\n",
       "\n",
       "    .dataframe thead th {\n",
       "        text-align: right;\n",
       "    }\n",
       "</style>\n",
       "<table border=\"1\" class=\"dataframe\">\n",
       "  <thead>\n",
       "    <tr style=\"text-align: right;\">\n",
       "      <th></th>\n",
       "      <th>id</th>\n",
       "      <th>time</th>\n",
       "      <th>con_treat</th>\n",
       "      <th>page</th>\n",
       "      <th>converted</th>\n",
       "      <th>country</th>\n",
       "    </tr>\n",
       "  </thead>\n",
       "  <tbody>\n",
       "    <tr>\n",
       "      <th>0</th>\n",
       "      <td>851104</td>\n",
       "      <td>11:48.6</td>\n",
       "      <td>control</td>\n",
       "      <td>old_page</td>\n",
       "      <td>0</td>\n",
       "      <td>US</td>\n",
       "    </tr>\n",
       "    <tr>\n",
       "      <th>1</th>\n",
       "      <td>804228</td>\n",
       "      <td>01:45.2</td>\n",
       "      <td>control</td>\n",
       "      <td>old_page</td>\n",
       "      <td>0</td>\n",
       "      <td>US</td>\n",
       "    </tr>\n",
       "    <tr>\n",
       "      <th>2</th>\n",
       "      <td>661590</td>\n",
       "      <td>55:06.2</td>\n",
       "      <td>treatment</td>\n",
       "      <td>new_page</td>\n",
       "      <td>0</td>\n",
       "      <td>US</td>\n",
       "    </tr>\n",
       "    <tr>\n",
       "      <th>3</th>\n",
       "      <td>853541</td>\n",
       "      <td>28:03.1</td>\n",
       "      <td>treatment</td>\n",
       "      <td>new_page</td>\n",
       "      <td>0</td>\n",
       "      <td>US</td>\n",
       "    </tr>\n",
       "    <tr>\n",
       "      <th>4</th>\n",
       "      <td>864975</td>\n",
       "      <td>52:26.2</td>\n",
       "      <td>control</td>\n",
       "      <td>old_page</td>\n",
       "      <td>1</td>\n",
       "      <td>US</td>\n",
       "    </tr>\n",
       "  </tbody>\n",
       "</table>\n",
       "</div>"
      ],
      "text/plain": [
       "       id     time  con_treat      page  converted country\n",
       "0  851104  11:48.6    control  old_page          0      US\n",
       "1  804228  01:45.2    control  old_page          0      US\n",
       "2  661590  55:06.2  treatment  new_page          0      US\n",
       "3  853541  28:03.1  treatment  new_page          0      US\n",
       "4  864975  52:26.2    control  old_page          1      US"
      ]
     },
     "execution_count": 7,
     "metadata": {},
     "output_type": "execute_result"
    }
   ],
   "source": [
    "df.head()"
   ]
  },
  {
   "cell_type": "code",
   "execution_count": 8,
   "id": "765323b4",
   "metadata": {},
   "outputs": [],
   "source": [
    "# here is the preview of the final dataset"
   ]
  },
  {
   "cell_type": "code",
   "execution_count": 9,
   "id": "062fe847",
   "metadata": {},
   "outputs": [],
   "source": [
    "#next step is to look for null values"
   ]
  },
  {
   "cell_type": "code",
   "execution_count": 10,
   "id": "0288a5fa",
   "metadata": {},
   "outputs": [
    {
     "data": {
      "text/plain": [
       "id           0\n",
       "time         0\n",
       "con_treat    0\n",
       "page         0\n",
       "converted    0\n",
       "country      0\n",
       "dtype: int64"
      ]
     },
     "execution_count": 10,
     "metadata": {},
     "output_type": "execute_result"
    }
   ],
   "source": [
    "df.isnull().sum()"
   ]
  },
  {
   "cell_type": "code",
   "execution_count": 11,
   "id": "379b20f7",
   "metadata": {},
   "outputs": [],
   "source": [
    "# no null values are present in the dataset"
   ]
  },
  {
   "cell_type": "markdown",
   "id": "24f9ef49",
   "metadata": {},
   "source": [
    "## EDA"
   ]
  },
  {
   "cell_type": "code",
   "execution_count": 12,
   "id": "86929d49",
   "metadata": {},
   "outputs": [],
   "source": [
    "### Conversion rate analysis"
   ]
  },
  {
   "cell_type": "code",
   "execution_count": 13,
   "id": "74211a58",
   "metadata": {},
   "outputs": [
    {
     "name": "stdout",
     "output_type": "stream",
     "text": [
      "con_treat\n",
      "control      0.120399\n",
      "treatment    0.118920\n",
      "Name: converted, dtype: float64\n"
     ]
    }
   ],
   "source": [
    "# Compute conversion rates for control and treatment groups\n",
    "conversion_rates = df.groupby('con_treat')['converted'].mean()\n",
    "print(conversion_rates)"
   ]
  },
  {
   "cell_type": "code",
   "execution_count": 14,
   "id": "bb50ced2",
   "metadata": {},
   "outputs": [],
   "source": [
    "### User Distribution by country "
   ]
  },
  {
   "cell_type": "code",
   "execution_count": 15,
   "id": "2ed57394",
   "metadata": {},
   "outputs": [
    {
     "name": "stdout",
     "output_type": "stream",
     "text": [
      "country\n",
      "US    206364\n",
      "UK     73419\n",
      "CA     14695\n",
      "Name: count, dtype: int64\n"
     ]
    }
   ],
   "source": [
    "#users per country\n",
    "country_counts = df['country'].value_counts()\n",
    "print(country_counts)"
   ]
  },
  {
   "cell_type": "code",
   "execution_count": 16,
   "id": "9eb6c9d9",
   "metadata": {},
   "outputs": [
    {
     "data": {
      "image/png": "[encoded data removed]",
      "text/plain": [
       "<Figure size 1000x500 with 1 Axes>"
      ]
     },
     "metadata": {},
     "output_type": "display_data"
    }
   ],
   "source": [
    "#plotting users per country\n",
    "plt.figure(figsize=(10,5))\n",
    "country_counts.plot(kind = 'bar' , color = 'blue')\n",
    "plt.title(\"User Distribution by country\")\n",
    "plt.xlabel('Country')\n",
    "plt.ylabel('User Count')\n",
    "plt.show()"
   ]
  },
  {
   "cell_type": "code",
   "execution_count": 17,
   "id": "508b6d8c",
   "metadata": {},
   "outputs": [
    {
     "name": "stdout",
     "output_type": "stream",
     "text": [
      "page\n",
      "new_page    0.118841\n",
      "old_page    0.120478\n",
      "Name: converted, dtype: float64\n"
     ]
    }
   ],
   "source": [
    "## page conversion rates\n",
    "page_conversion_rates = df.groupby('page')['converted'].mean()\n",
    "print(page_conversion_rates)"
   ]
  },
  {
   "cell_type": "code",
   "execution_count": 18,
   "id": "b1df6451",
   "metadata": {},
   "outputs": [
    {
     "data": {
      "text/plain": [
       "<bound method NDFrame.describe of             id     time  con_treat      page  converted country\n",
       "0       851104  11:48.6    control  old_page          0      US\n",
       "1       804228  01:45.2    control  old_page          0      US\n",
       "2       661590  55:06.2  treatment  new_page          0      US\n",
       "3       853541  28:03.1  treatment  new_page          0      US\n",
       "4       864975  52:26.2    control  old_page          1      US\n",
       "...        ...      ...        ...       ...        ...     ...\n",
       "294473  751197  28:38.6    control  old_page          0      US\n",
       "294474  945152  51:57.1    control  old_page          0      US\n",
       "294475  734608  45:03.4    control  old_page          0      US\n",
       "294476  697314  20:29.0    control  old_page          0      US\n",
       "294477  715931  40:24.5  treatment  new_page          0      UK\n",
       "\n",
       "[294478 rows x 6 columns]>"
      ]
     },
     "execution_count": 18,
     "metadata": {},
     "output_type": "execute_result"
    }
   ],
   "source": [
    "## overall descriptive stats\n",
    "df.describe"
   ]
  },
  {
   "cell_type": "code",
   "execution_count": 19,
   "id": "1eb96ae6",
   "metadata": {},
   "outputs": [
    {
     "name": "stdout",
     "output_type": "stream",
     "text": [
      "country\n",
      "CA    0.115890\n",
      "UK    0.120582\n",
      "US    0.119599\n",
      "Name: converted, dtype: float64\n"
     ]
    }
   ],
   "source": [
    "## Conversion rate by country\n",
    "country_conversion = df.groupby('country')['converted'].mean()\n",
    "print(country_conversion)"
   ]
  },
  {
   "cell_type": "code",
   "execution_count": 20,
   "id": "7868992c",
   "metadata": {},
   "outputs": [
    {
     "data": {
      "image/png": "[encoded data removed]",
      "text/plain": [
       "<Figure size 1000x600 with 1 Axes>"
      ]
     },
     "metadata": {},
     "output_type": "display_data"
    }
   ],
   "source": [
    "plt.figure(figsize=(10,6))\n",
    "country_conversion.plot(kind = 'pie' , autopct='%1.1f%%' , startangle =140 , legend = False)\n",
    "plt.title(\"Conversion Distribution by country\")\n",
    "plt.ylabel('')\n",
    "plt.show()"
   ]
  },
  {
   "cell_type": "code",
   "execution_count": 21,
   "id": "c0a1cf71",
   "metadata": {},
   "outputs": [],
   "source": [
    "## Time based Conversion Analysis\n",
    "\n",
    "# Extracting hour from timestamp\n",
    "df['hour']=df['time'].str[:2].astype(int)\n",
    "\n",
    "# compute conversion rates per hour\n",
    "hour_conversion = df.groupby('hour')['converted'].mean()\n"
   ]
  },
  {
   "cell_type": "code",
   "execution_count": 22,
   "id": "c229d067",
   "metadata": {},
   "outputs": [
    {
     "data": {
      "image/png": "[encoded data removed]",
      "text/plain": [
       "<Figure size 1000x500 with 1 Axes>"
      ]
     },
     "metadata": {},
     "output_type": "display_data"
    }
   ],
   "source": [
    "#plotting hour conversion\n",
    "plt.figure(figsize=(10,5))\n",
    "hour_conversion.plot(kind='line' , marker = 'o' , color = 'green')\n",
    "plt.title('Hourly conversion Rate')\n",
    "plt.xlabel('Hour of the day')\n",
    "plt.ylabel('Conversion rate')\n",
    "plt.grid()\n",
    "plt.show()"
   ]
  },
  {
   "cell_type": "markdown",
   "id": "2ae2baa4",
   "metadata": {},
   "source": [
    "## A/B Testing "
   ]
  },
  {
   "cell_type": "markdown",
   "id": "d5676033",
   "metadata": {},
   "source": [
    "Before performing hypothesis testing, we define our null and alternative hypotheses:\n",
    "\n",
    "Null Hypothesis (H₀): There is no significant difference in conversion rates between the control and treatment groups. The new page does not perform better than the old page.\n",
    "\n",
    "Alternative Hypothesis (H₁): There is a significant difference in conversion rates between the control and treatment groups. The new page performs better (or worse) than the old page."
   ]
  },
  {
   "cell_type": "markdown",
   "id": "f655b278",
   "metadata": {},
   "source": [
    "- Chi-Square Test → Tells if conversion rates are significantly different between groups.\n",
    "\n",
    "- T-Test → Checks if the new page increases conversion rate on average.\n",
    "\n",
    "- PyCaret AutoML → Finds the best predictive model for conversion trends automatically."
   ]
  },
  {
   "cell_type": "code",
   "execution_count": 23,
   "id": "0a5f50ca",
   "metadata": {},
   "outputs": [
    {
     "name": "stdout",
     "output_type": "stream",
     "text": [
      "Chi-square statistic:1.5159618356336582\n",
      "p-value : 0.2182316121631168\n"
     ]
    }
   ],
   "source": [
    "# Chi Square Test for statistical Significance\n",
    "import scipy.stats as stats\n",
    "\n",
    "#creating a cotingency table\n",
    "con_table = pd.crosstab(df['con_treat'],df['converted'])\n",
    "\n",
    "#performing chi-square test\n",
    "chi2 , p , dof , expected = stats.chi2_contingency(con_table)\n",
    "\n",
    "#Results\n",
    "print(f\"Chi-square statistic:{chi2}\")\n",
    "print(f\"p-value : {p}\")"
   ]
  },
  {
   "cell_type": "markdown",
   "id": "de88d64b",
   "metadata": {},
   "source": [
    "According to test rule if p-value < 0.05, there is a significant difference in conversion rates.\n",
    "\n",
    "Here through results we see that :\n",
    "* Chi-square stat = 1.5159\n",
    "* p-values = 0.2182\n",
    "\n",
    "- Conclusion\n",
    "1. Since the resultant p-value is greater than 0.05 we fail to reject the null hypothesis.\n",
    "2. This means there is no significant difference in conversion rates between the control and Treatment Group\n",
    "3. This concludes that new page does not perform better than the old page on the basis of this test."
   ]
  },
  {
   "cell_type": "code",
   "execution_count": 24,
   "id": "cc6b0e14",
   "metadata": {},
   "outputs": [
    {
     "name": "stdout",
     "output_type": "stream",
     "text": [
      "T-statistics : 1.2369207675839395\n",
      "p_value : 0.21611748562490837\n"
     ]
    }
   ],
   "source": [
    "# T-test to compare the conversion rates\n",
    "\n",
    "#separating control and treatment groups conversion rates\n",
    "control_group = df[df['con_treat']=='control']['converted']\n",
    "treatment_group = df[df['con_treat']=='treatment']['converted']\n",
    "\n",
    "# performing independent t-test\n",
    "t_stat , p_value = stats.ttest_ind(control_group,treatment_group)\n",
    "\n",
    "#Results\n",
    "print(f\"T-statistics : {t_stat}\")\n",
    "print(f\"p_value : {p_value}\")"
   ]
  },
  {
   "cell_type": "markdown",
   "id": "4969a2b6",
   "metadata": {},
   "source": [
    "Through our independent t-test the conclusion drawn is :\n",
    "\n",
    "1. p-value ie 0.21 is greater than 0.05 through which we fail to reject the null hypothesis.\n",
    "2. This means the difference in average conversion rates between control and treatment groups is not that significant statistically.\n",
    "3. This leads to a conclusion that the new page does not significantly improve the conversion rates compared to the old page."
   ]
  },
  {
   "cell_type": "markdown",
   "id": "40708d88",
   "metadata": {},
   "source": [
    "### Running Automated A/B testing with PyCaret to check if any model gives insgihts "
   ]
  },
  {
   "cell_type": "code",
   "execution_count": 25,
   "id": "ae911c96",
   "metadata": {},
   "outputs": [
    {
     "data": {
      "text/html": [
       "<style type=\"text/css\">\n",
       "#T_c4728_row9_col1 {\n",
       "  background-color: lightgreen;\n",
       "}\n",
       "</style>\n",
       "<table id=\"T_c4728\">\n",
       "  <thead>\n",
       "    <tr>\n",
       "      <th class=\"blank level0\" >&nbsp;</th>\n",
       "      <th id=\"T_c4728_level0_col0\" class=\"col_heading level0 col0\" >Description</th>\n",
       "      <th id=\"T_c4728_level0_col1\" class=\"col_heading level0 col1\" >Value</th>\n",
       "    </tr>\n",
       "  </thead>\n",
       "  <tbody>\n",
       "    <tr>\n",
       "      <th id=\"T_c4728_level0_row0\" class=\"row_heading level0 row0\" >0</th>\n",
       "      <td id=\"T_c4728_row0_col0\" class=\"data row0 col0\" >Session id</td>\n",
       "      <td id=\"T_c4728_row0_col1\" class=\"data row0 col1\" >123</td>\n",
       "    </tr>\n",
       "    <tr>\n",
       "      <th id=\"T_c4728_level0_row1\" class=\"row_heading level0 row1\" >1</th>\n",
       "      <td id=\"T_c4728_row1_col0\" class=\"data row1 col0\" >Target</td>\n",
       "      <td id=\"T_c4728_row1_col1\" class=\"data row1 col1\" >converted</td>\n",
       "    </tr>\n",
       "    <tr>\n",
       "      <th id=\"T_c4728_level0_row2\" class=\"row_heading level0 row2\" >2</th>\n",
       "      <td id=\"T_c4728_row2_col0\" class=\"data row2 col0\" >Target type</td>\n",
       "      <td id=\"T_c4728_row2_col1\" class=\"data row2 col1\" >Binary</td>\n",
       "    </tr>\n",
       "    <tr>\n",
       "      <th id=\"T_c4728_level0_row3\" class=\"row_heading level0 row3\" >3</th>\n",
       "      <td id=\"T_c4728_row3_col0\" class=\"data row3 col0\" >Original data shape</td>\n",
       "      <td id=\"T_c4728_row3_col1\" class=\"data row3 col1\" >(294478, 7)</td>\n",
       "    </tr>\n",
       "    <tr>\n",
       "      <th id=\"T_c4728_level0_row4\" class=\"row_heading level0 row4\" >4</th>\n",
       "      <td id=\"T_c4728_row4_col0\" class=\"data row4 col0\" >Transformed data shape</td>\n",
       "      <td id=\"T_c4728_row4_col1\" class=\"data row4 col1\" >(294478, 9)</td>\n",
       "    </tr>\n",
       "    <tr>\n",
       "      <th id=\"T_c4728_level0_row5\" class=\"row_heading level0 row5\" >5</th>\n",
       "      <td id=\"T_c4728_row5_col0\" class=\"data row5 col0\" >Transformed train set shape</td>\n",
       "      <td id=\"T_c4728_row5_col1\" class=\"data row5 col1\" >(206134, 9)</td>\n",
       "    </tr>\n",
       "    <tr>\n",
       "      <th id=\"T_c4728_level0_row6\" class=\"row_heading level0 row6\" >6</th>\n",
       "      <td id=\"T_c4728_row6_col0\" class=\"data row6 col0\" >Transformed test set shape</td>\n",
       "      <td id=\"T_c4728_row6_col1\" class=\"data row6 col1\" >(88344, 9)</td>\n",
       "    </tr>\n",
       "    <tr>\n",
       "      <th id=\"T_c4728_level0_row7\" class=\"row_heading level0 row7\" >7</th>\n",
       "      <td id=\"T_c4728_row7_col0\" class=\"data row7 col0\" >Numeric features</td>\n",
       "      <td id=\"T_c4728_row7_col1\" class=\"data row7 col1\" >2</td>\n",
       "    </tr>\n",
       "    <tr>\n",
       "      <th id=\"T_c4728_level0_row8\" class=\"row_heading level0 row8\" >8</th>\n",
       "      <td id=\"T_c4728_row8_col0\" class=\"data row8 col0\" >Categorical features</td>\n",
       "      <td id=\"T_c4728_row8_col1\" class=\"data row8 col1\" >3</td>\n",
       "    </tr>\n",
       "    <tr>\n",
       "      <th id=\"T_c4728_level0_row9\" class=\"row_heading level0 row9\" >9</th>\n",
       "      <td id=\"T_c4728_row9_col0\" class=\"data row9 col0\" >Preprocess</td>\n",
       "      <td id=\"T_c4728_row9_col1\" class=\"data row9 col1\" >True</td>\n",
       "    </tr>\n",
       "    <tr>\n",
       "      <th id=\"T_c4728_level0_row10\" class=\"row_heading level0 row10\" >10</th>\n",
       "      <td id=\"T_c4728_row10_col0\" class=\"data row10 col0\" >Imputation type</td>\n",
       "      <td id=\"T_c4728_row10_col1\" class=\"data row10 col1\" >simple</td>\n",
       "    </tr>\n",
       "    <tr>\n",
       "      <th id=\"T_c4728_level0_row11\" class=\"row_heading level0 row11\" >11</th>\n",
       "      <td id=\"T_c4728_row11_col0\" class=\"data row11 col0\" >Numeric imputation</td>\n",
       "      <td id=\"T_c4728_row11_col1\" class=\"data row11 col1\" >mean</td>\n",
       "    </tr>\n",
       "    <tr>\n",
       "      <th id=\"T_c4728_level0_row12\" class=\"row_heading level0 row12\" >12</th>\n",
       "      <td id=\"T_c4728_row12_col0\" class=\"data row12 col0\" >Categorical imputation</td>\n",
       "      <td id=\"T_c4728_row12_col1\" class=\"data row12 col1\" >mode</td>\n",
       "    </tr>\n",
       "    <tr>\n",
       "      <th id=\"T_c4728_level0_row13\" class=\"row_heading level0 row13\" >13</th>\n",
       "      <td id=\"T_c4728_row13_col0\" class=\"data row13 col0\" >Maximum one-hot encoding</td>\n",
       "      <td id=\"T_c4728_row13_col1\" class=\"data row13 col1\" >25</td>\n",
       "    </tr>\n",
       "    <tr>\n",
       "      <th id=\"T_c4728_level0_row14\" class=\"row_heading level0 row14\" >14</th>\n",
       "      <td id=\"T_c4728_row14_col0\" class=\"data row14 col0\" >Encoding method</td>\n",
       "      <td id=\"T_c4728_row14_col1\" class=\"data row14 col1\" >None</td>\n",
       "    </tr>\n",
       "    <tr>\n",
       "      <th id=\"T_c4728_level0_row15\" class=\"row_heading level0 row15\" >15</th>\n",
       "      <td id=\"T_c4728_row15_col0\" class=\"data row15 col0\" >Fold Generator</td>\n",
       "      <td id=\"T_c4728_row15_col1\" class=\"data row15 col1\" >StratifiedKFold</td>\n",
       "    </tr>\n",
       "    <tr>\n",
       "      <th id=\"T_c4728_level0_row16\" class=\"row_heading level0 row16\" >16</th>\n",
       "      <td id=\"T_c4728_row16_col0\" class=\"data row16 col0\" >Fold Number</td>\n",
       "      <td id=\"T_c4728_row16_col1\" class=\"data row16 col1\" >10</td>\n",
       "    </tr>\n",
       "    <tr>\n",
       "      <th id=\"T_c4728_level0_row17\" class=\"row_heading level0 row17\" >17</th>\n",
       "      <td id=\"T_c4728_row17_col0\" class=\"data row17 col0\" >CPU Jobs</td>\n",
       "      <td id=\"T_c4728_row17_col1\" class=\"data row17 col1\" >-1</td>\n",
       "    </tr>\n",
       "    <tr>\n",
       "      <th id=\"T_c4728_level0_row18\" class=\"row_heading level0 row18\" >18</th>\n",
       "      <td id=\"T_c4728_row18_col0\" class=\"data row18 col0\" >Use GPU</td>\n",
       "      <td id=\"T_c4728_row18_col1\" class=\"data row18 col1\" >False</td>\n",
       "    </tr>\n",
       "    <tr>\n",
       "      <th id=\"T_c4728_level0_row19\" class=\"row_heading level0 row19\" >19</th>\n",
       "      <td id=\"T_c4728_row19_col0\" class=\"data row19 col0\" >Log Experiment</td>\n",
       "      <td id=\"T_c4728_row19_col1\" class=\"data row19 col1\" >False</td>\n",
       "    </tr>\n",
       "    <tr>\n",
       "      <th id=\"T_c4728_level0_row20\" class=\"row_heading level0 row20\" >20</th>\n",
       "      <td id=\"T_c4728_row20_col0\" class=\"data row20 col0\" >Experiment Name</td>\n",
       "      <td id=\"T_c4728_row20_col1\" class=\"data row20 col1\" >clf-default-name</td>\n",
       "    </tr>\n",
       "    <tr>\n",
       "      <th id=\"T_c4728_level0_row21\" class=\"row_heading level0 row21\" >21</th>\n",
       "      <td id=\"T_c4728_row21_col0\" class=\"data row21 col0\" >USI</td>\n",
       "      <td id=\"T_c4728_row21_col1\" class=\"data row21 col1\" >b75d</td>\n",
       "    </tr>\n",
       "  </tbody>\n",
       "</table>\n"
      ],
      "text/plain": [
       "<pandas.io.formats.style.Styler at 0x217d39e3550>"
      ]
     },
     "metadata": {},
     "output_type": "display_data"
    },
    {
     "data": {
      "text/html": [],
      "text/plain": [
       "<IPython.core.display.HTML object>"
      ]
     },
     "metadata": {},
     "output_type": "display_data"
    },
    {
     "data": {
      "text/html": [
       "<style type=\"text/css\">\n",
       "#T_d0c80 th {\n",
       "  text-align: left;\n",
       "}\n",
       "#T_d0c80_row0_col0, #T_d0c80_row0_col2, #T_d0c80_row0_col3, #T_d0c80_row0_col4, #T_d0c80_row0_col5, #T_d0c80_row1_col0, #T_d0c80_row1_col1, #T_d0c80_row1_col6, #T_d0c80_row1_col7 {\n",
       "  text-align: left;\n",
       "}\n",
       "#T_d0c80_row0_col1, #T_d0c80_row0_col6, #T_d0c80_row0_col7, #T_d0c80_row1_col2, #T_d0c80_row1_col3, #T_d0c80_row1_col4, #T_d0c80_row1_col5 {\n",
       "  text-align: left;\n",
       "  background-color: yellow;\n",
       "}\n",
       "#T_d0c80_row0_col8 {\n",
       "  text-align: left;\n",
       "  background-color: yellow;\n",
       "  background-color: lightgrey;\n",
       "}\n",
       "#T_d0c80_row1_col8 {\n",
       "  text-align: left;\n",
       "  background-color: lightgrey;\n",
       "}\n",
       "</style>\n",
       "<table id=\"T_d0c80\">\n",
       "  <thead>\n",
       "    <tr>\n",
       "      <th class=\"blank level0\" >&nbsp;</th>\n",
       "      <th id=\"T_d0c80_level0_col0\" class=\"col_heading level0 col0\" >Model</th>\n",
       "      <th id=\"T_d0c80_level0_col1\" class=\"col_heading level0 col1\" >Accuracy</th>\n",
       "      <th id=\"T_d0c80_level0_col2\" class=\"col_heading level0 col2\" >AUC</th>\n",
       "      <th id=\"T_d0c80_level0_col3\" class=\"col_heading level0 col3\" >Recall</th>\n",
       "      <th id=\"T_d0c80_level0_col4\" class=\"col_heading level0 col4\" >Prec.</th>\n",
       "      <th id=\"T_d0c80_level0_col5\" class=\"col_heading level0 col5\" >F1</th>\n",
       "      <th id=\"T_d0c80_level0_col6\" class=\"col_heading level0 col6\" >Kappa</th>\n",
       "      <th id=\"T_d0c80_level0_col7\" class=\"col_heading level0 col7\" >MCC</th>\n",
       "      <th id=\"T_d0c80_level0_col8\" class=\"col_heading level0 col8\" >TT (Sec)</th>\n",
       "    </tr>\n",
       "  </thead>\n",
       "  <tbody>\n",
       "    <tr>\n",
       "      <th id=\"T_d0c80_level0_row0\" class=\"row_heading level0 row0\" >dummy</th>\n",
       "      <td id=\"T_d0c80_row0_col0\" class=\"data row0 col0\" >Dummy Classifier</td>\n",
       "      <td id=\"T_d0c80_row0_col1\" class=\"data row0 col1\" >0.8803</td>\n",
       "      <td id=\"T_d0c80_row0_col2\" class=\"data row0 col2\" >0.5000</td>\n",
       "      <td id=\"T_d0c80_row0_col3\" class=\"data row0 col3\" >0.0000</td>\n",
       "      <td id=\"T_d0c80_row0_col4\" class=\"data row0 col4\" >0.0000</td>\n",
       "      <td id=\"T_d0c80_row0_col5\" class=\"data row0 col5\" >0.0000</td>\n",
       "      <td id=\"T_d0c80_row0_col6\" class=\"data row0 col6\" >0.0000</td>\n",
       "      <td id=\"T_d0c80_row0_col7\" class=\"data row0 col7\" >0.0000</td>\n",
       "      <td id=\"T_d0c80_row0_col8\" class=\"data row0 col8\" >0.2510</td>\n",
       "    </tr>\n",
       "    <tr>\n",
       "      <th id=\"T_d0c80_level0_row1\" class=\"row_heading level0 row1\" >lightgbm</th>\n",
       "      <td id=\"T_d0c80_row1_col0\" class=\"data row1 col0\" >Light Gradient Boosting Machine</td>\n",
       "      <td id=\"T_d0c80_row1_col1\" class=\"data row1 col1\" >0.8799</td>\n",
       "      <td id=\"T_d0c80_row1_col2\" class=\"data row1 col2\" >0.5017</td>\n",
       "      <td id=\"T_d0c80_row1_col3\" class=\"data row1 col3\" >0.0001</td>\n",
       "      <td id=\"T_d0c80_row1_col4\" class=\"data row1 col4\" >0.0245</td>\n",
       "      <td id=\"T_d0c80_row1_col5\" class=\"data row1 col5\" >0.0002</td>\n",
       "      <td id=\"T_d0c80_row1_col6\" class=\"data row1 col6\" >-0.0006</td>\n",
       "      <td id=\"T_d0c80_row1_col7\" class=\"data row1 col7\" >-0.0056</td>\n",
       "      <td id=\"T_d0c80_row1_col8\" class=\"data row1 col8\" >1.0660</td>\n",
       "    </tr>\n",
       "  </tbody>\n",
       "</table>\n"
      ],
      "text/plain": [
       "<pandas.io.formats.style.Styler at 0x217de459850>"
      ]
     },
     "metadata": {},
     "output_type": "display_data"
    },
    {
     "data": {
      "text/html": [],
      "text/plain": [
       "<IPython.core.display.HTML object>"
      ]
     },
     "metadata": {},
     "output_type": "display_data"
    }
   ],
   "source": [
    "from pycaret.classification import*\n",
    "\n",
    "# setting up automl for a/b testing\n",
    "exp1 = setup(data=df , \n",
    "             target='converted', \n",
    "             categorical_features=['con_treat' , 'page' , 'country'],\n",
    "             session_id=123)\n",
    "\n",
    "# comparinf models\n",
    "best_model = compare_models()"
   ]
  },
  {
   "cell_type": "code",
   "execution_count": null,
   "id": "f3f49c5f",
   "metadata": {},
   "outputs": [],
   "source": []
  },
  {
   "cell_type": "markdown",
   "id": "0493a638",
   "metadata": {},
   "source": [
    "** Statistical Findings **\n",
    "\n",
    "- Chi-Square Test & T-Test results indicate no statistically significant difference in conversion rates between the old page and the new page.\n",
    "\n",
    "- This means that the new page does not significantly impact conversions, and rolling it out may not improve business outcomes"
   ]
  },
  {
   "cell_type": "markdown",
   "id": "43623c05",
   "metadata": {},
   "source": [
    "**High Accuracy (88%) but Low AUC (0.50) **\n",
    "\n",
    "- AUC close to 0.50 means the model is no better than random guessing.\n",
    "- This suggests that conversions are either highly imbalanced or not strongly influenced by the given features."
   ]
  },
  {
   "cell_type": "markdown",
   "id": "d490cbba",
   "metadata": {},
   "source": [
    " ** Dummy Classifier Performs Just as Well **\n",
    "\n",
    "- The Dummy Classifier is a baseline model that predicts based on class distribution.\n",
    "- Since its accuracy is almost the same as LightGBM (~88%), it means no strong predictive pattern exists in the data.\n",
    "- LightGBM does not significantly outperform random guessing, making it not useful for predicting conversions."
   ]
  },
  {
   "cell_type": "markdown",
   "id": "73714f13",
   "metadata": {},
   "source": [
    "- Statistical tests already proved that the new page does not lead to significantly better conversions.\n",
    "- AutoML confirms this → Even advanced machine learning models fail to find a meaningful pattern for conversions.\n",
    "- Business Decision: Since neither statistical tests nor machine learning models provide strong evidence that the new page is better, it's not recommended to proceed with rolling it out.\n",
    "\n",
    "- Conclusion : Instead of just changing the page design, consider A/B testing different elements (e.g., CTA buttons, offers, pricing strategies) to see if they impact conversion rates."
   ]
  },
  {
   "cell_type": "code",
   "execution_count": null,
   "id": "a47541b1",
   "metadata": {},
   "outputs": [],
   "source": []
  }
 ],
 "metadata": {
  "kernelspec": {
   "display_name": "Python 3 (ipykernel)",
   "language": "python",
   "name": "python3"
  },
  "language_info": {
   "codemirror_mode": {
    "name": "ipython",
    "version": 3
   },
   "file_extension": ".py",
   "mimetype": "text/x-python",
   "name": "python",
   "nbconvert_exporter": "python",
   "pygments_lexer": "ipython3",
   "version": "3.11.5"
  }
 },
 "nbformat": 4,
 "nbformat_minor": 5
}
